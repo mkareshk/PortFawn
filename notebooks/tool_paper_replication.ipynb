{
 "cells": [
  {
   "cell_type": "code",
   "execution_count": 1,
   "id": "e11beb25-61b9-47fb-b3cd-cf0b3c57c86c",
   "metadata": {},
   "outputs": [],
   "source": [
    "import os\n",
    "import shutil\n",
    "from pathlib import Path\n",
    "from datetime import datetime\n",
    "\n",
    "import joblib\n",
    "import matplotlib.pyplot as plt\n",
    "\n",
    "from portfawn.market_data import MarketData\n",
    "from portfawn.portfolio import MultiPortoflio\n",
    "from portfawn.portfolio import BackTest"
   ]
  },
  {
   "cell_type": "code",
   "execution_count": 2,
   "id": "bc5380ec-0dd7-4765-a25e-59e9f92c9f59",
   "metadata": {},
   "outputs": [],
   "source": [
    "## Parameters\n",
    "\n",
    "# market\n",
    "tickers = {\"S&P 500\": \"IVV\", \n",
    "           \"Small-Cap\": \"IJR\",\n",
    "           'ACWI ex U.S.': 'ACWX',\n",
    "           \"Emerging Markets\": \"IEMG\", \n",
    "           \"Global REIT\": \"REET\", \n",
    "           'U.S. Real Estate': 'IYR',\n",
    "           'Corporate Bond ': 'HYG',\n",
    "           'Aggregate Bond': 'AGG',\n",
    "           'Gold': 'GLD',\n",
    "          }\n",
    "\n",
    "start_date = datetime.strptime(\"2015-01-01\", \"%Y-%m-%d\").date()\n",
    "end_date = datetime.strptime(\"2020-12-31\", \"%Y-%m-%d\").date()\n",
    "training_days = 8 * 5\n",
    "testing_days = 5\n",
    "col_price = 'Close'\n",
    "\n",
    "# portfolio\n",
    "portfolio_fitness = {\"MSRP\": \"Max Sharpe-Ratio\", \n",
    "                     \"EWP\": \"Equal Weight\", \n",
    "                     'MRP': \"Maximum Returns\",\n",
    "                     'MVP': 'Minimum Volatility',\n",
    "                     'SA': 'Simulated Annealing'}\n",
    "\n",
    "portfolio_fitness_list = list(portfolio_fitness.keys())\n",
    "risk_free_rate = 0.00\n",
    "sampling_params = {\"type\": \"standard\"}\n",
    "optimization_params = {\n",
    "    \"scipy_params\": {\n",
    "        \"maxiter\": 1000,\n",
    "        \"disp\": False,\n",
    "        \"ftol\": 1e-10,\n",
    "    },\n",
    "    \"target_return\": 0.2,\n",
    "    \"target_risk\": 0.05,\n",
    "    \"weight_bound\": (0.02, 0.98),\n",
    "}\n",
    "\n",
    "# system\n",
    "n_jobs = joblib.cpu_count() - 1\n",
    "\n",
    "# backtest\n",
    "backtesting_name = 'test'\n",
    "\n",
    "# Backtest config\n",
    "backtesting_config = {\n",
    "    \"backtesting_name\": backtesting_name,\n",
    "    \"portfolio_fitness\": portfolio_fitness,\n",
    "    \"tickers\": tickers,\n",
    "    \"start_date\": start_date,\n",
    "    \"end_date\": end_date,\n",
    "    \"optimization_params\": optimization_params,\n",
    "    \"sampling_params\": sampling_params,\n",
    "    \"training_days\": training_days,\n",
    "    \"testing_days\": testing_days,\n",
    "    \"risk_free_rate\": risk_free_rate,\n",
    "    \"n_jobs\": n_jobs,\n",
    "}\n",
    "\n",
    "# misc\n",
    "file_format = 'png'\n",
    "\n",
    "# results\n",
    "path_result = Path('./plots')\n",
    "shutil.rmtree(path_result)\n",
    "os.makedirs(path_result)"
   ]
  },
  {
   "cell_type": "markdown",
   "id": "501069e8-6848-43e7-899b-f45e45d429c5",
   "metadata": {},
   "source": [
    "### Market Data"
   ]
  },
  {
   "cell_type": "code",
   "execution_count": 3,
   "id": "7ac99bc5-df6c-4863-b25c-9686d4ff3653",
   "metadata": {},
   "outputs": [
    {
     "name": "stdout",
     "output_type": "stream",
     "text": [
      "[*********************100%***********************]  9 of 9 completed\n"
     ]
    },
    {
     "name": "stderr",
     "output_type": "stream",
     "text": [
      "/media/veracrypt4/projects/PortFawn/venv/lib/python3.8/site-packages/pandas/util/_decorators.py:311: SettingWithCopyWarning: \n",
      "A value is trying to be set on a copy of a slice from a DataFrame\n",
      "\n",
      "See the caveats in the documentation: https://pandas.pydata.org/pandas-docs/stable/user_guide/indexing.html#returning-a-view-versus-a-copy\n",
      "  return func(*args, **kwargs)\n"
     ]
    }
   ],
   "source": [
    "## Create the market instance\n",
    "market_data = MarketData(\n",
    "    tickers = tickers,\n",
    "    date_start = start_date,\n",
    "    date_end = end_date,\n",
    "    col_price = col_price,\n",
    ")\n",
    "\n",
    "## Plot the Cum Returns Data\n",
    "fig, ax = market_data.plot_cum_returns()\n",
    "fig.savefig(path_result / Path(f'market_cum_returns.{file_format}'))\n",
    "plt.close()\n",
    "\n",
    "## Dist of Returns\n",
    "fig, ax = market_data.plot_dist_returns()\n",
    "fig.savefig(path_result / Path(f'market_dist_returns.{file_format}'))\n",
    "plt.close()\n",
    "\n",
    "# Corr Data\n",
    "fig, ax = market_data.plot_corr()\n",
    "fig.savefig(path_result / Path(f'market_corr.{file_format}'))\n",
    "plt.close()"
   ]
  },
  {
   "cell_type": "markdown",
   "id": "11b406ec-f12a-40ec-bdd0-574b33bc32e0",
   "metadata": {},
   "source": [
    "### Multiple Portfolio"
   ]
  },
  {
   "cell_type": "code",
   "execution_count": 4,
   "id": "1314bef3-4194-48c8-ac22-f93ce20a3ea6",
   "metadata": {},
   "outputs": [
    {
     "name": "stderr",
     "output_type": "stream",
     "text": [
      "/media/veracrypt4/projects/PortFawn/venv/lib/python3.8/site-packages/scipy/optimize/optimize.py:282: RuntimeWarning: Values in x were outside bounds during a minimize step, clipping to bounds\n",
      "  warnings.warn(\"Values in x were outside bounds during a \"\n"
     ]
    }
   ],
   "source": [
    "data_returns = market_data.data_returns\n",
    "multi_portfolio = MultiPortoflio(portfolio_fitness_list=portfolio_fitness_list,\n",
    "                                 data_returns=data_returns,\n",
    "                                 risk_free_rate=risk_free_rate,\n",
    "                                 sampling_params=sampling_params,\n",
    "                                 optimization_params=optimization_params,\n",
    "                                )\n",
    "multi_portfolio.generate()\n",
    "fig, ax = multi_portfolio.plot_portfolio()\n",
    "fig.savefig(path_result / Path(f'portfolio_multi.{file_format}'))\n",
    "plt.close()"
   ]
  },
  {
   "cell_type": "markdown",
   "id": "7f1bbe59-174b-4b1e-80c3-a2cfe6214447",
   "metadata": {},
   "source": [
    "### Backtesting"
   ]
  },
  {
   "cell_type": "code",
   "execution_count": 5,
   "id": "38e4763a-39fc-4674-bc88-e40979a000b3",
   "metadata": {},
   "outputs": [
    {
     "name": "stdout",
     "output_type": "stream",
     "text": [
      "[*********************100%***********************]  9 of 9 completed\n"
     ]
    },
    {
     "name": "stderr",
     "output_type": "stream",
     "text": [
      "/media/veracrypt4/projects/PortFawn/venv/lib/python3.8/site-packages/pandas/util/_decorators.py:311: SettingWithCopyWarning: \n",
      "A value is trying to be set on a copy of a slice from a DataFrame\n",
      "\n",
      "See the caveats in the documentation: https://pandas.pydata.org/pandas-docs/stable/user_guide/indexing.html#returning-a-view-versus-a-copy\n",
      "  return func(*args, **kwargs)\n",
      "/media/veracrypt4/projects/PortFawn/venv/lib/python3.8/site-packages/scipy/optimize/optimize.py:282: RuntimeWarning: Values in x were outside bounds during a minimize step, clipping to bounds\n",
      "  warnings.warn(\"Values in x were outside bounds during a \"\n",
      "/media/veracrypt4/projects/PortFawn/venv/lib/python3.8/site-packages/scipy/optimize/optimize.py:282: RuntimeWarning: Values in x were outside bounds during a minimize step, clipping to bounds\n",
      "  warnings.warn(\"Values in x were outside bounds during a \"\n",
      "/media/veracrypt4/projects/PortFawn/venv/lib/python3.8/site-packages/scipy/optimize/optimize.py:282: RuntimeWarning: Values in x were outside bounds during a minimize step, clipping to bounds\n",
      "  warnings.warn(\"Values in x were outside bounds during a \"\n",
      "/media/veracrypt4/projects/PortFawn/venv/lib/python3.8/site-packages/scipy/optimize/optimize.py:282: RuntimeWarning: Values in x were outside bounds during a minimize step, clipping to bounds\n",
      "  warnings.warn(\"Values in x were outside bounds during a \"\n",
      "/media/veracrypt4/projects/PortFawn/venv/lib/python3.8/site-packages/scipy/optimize/optimize.py:282: RuntimeWarning: Values in x were outside bounds during a minimize step, clipping to bounds\n",
      "  warnings.warn(\"Values in x were outside bounds during a \"\n",
      "/media/veracrypt4/projects/PortFawn/venv/lib/python3.8/site-packages/scipy/optimize/optimize.py:282: RuntimeWarning: Values in x were outside bounds during a minimize step, clipping to bounds\n",
      "  warnings.warn(\"Values in x were outside bounds during a \"\n",
      "/media/veracrypt4/projects/PortFawn/venv/lib/python3.8/site-packages/scipy/optimize/optimize.py:282: RuntimeWarning: Values in x were outside bounds during a minimize step, clipping to bounds\n",
      "  warnings.warn(\"Values in x were outside bounds during a \"\n",
      "/media/veracrypt4/projects/PortFawn/venv/lib/python3.8/site-packages/scipy/optimize/optimize.py:282: RuntimeWarning: Values in x were outside bounds during a minimize step, clipping to bounds\n",
      "  warnings.warn(\"Values in x were outside bounds during a \"\n",
      "/media/veracrypt4/projects/PortFawn/venv/lib/python3.8/site-packages/scipy/optimize/optimize.py:282: RuntimeWarning: Values in x were outside bounds during a minimize step, clipping to bounds\n",
      "  warnings.warn(\"Values in x were outside bounds during a \"\n",
      "/media/veracrypt4/projects/PortFawn/venv/lib/python3.8/site-packages/scipy/optimize/optimize.py:282: RuntimeWarning: Values in x were outside bounds during a minimize step, clipping to bounds\n",
      "  warnings.warn(\"Values in x were outside bounds during a \"\n",
      "/media/veracrypt4/projects/PortFawn/venv/lib/python3.8/site-packages/scipy/optimize/optimize.py:282: RuntimeWarning: Values in x were outside bounds during a minimize step, clipping to bounds\n",
      "  warnings.warn(\"Values in x were outside bounds during a \"\n"
     ]
    }
   ],
   "source": [
    "portfolio_backtest = BackTest(**backtesting_config)\n",
    "portfolio_backtest.run()\n",
    "\n",
    "## Plot the Cum Returns\n",
    "fig, ax = portfolio_backtest.plot_cum_returns()\n",
    "fig.savefig(path_result / Path(f'portfolio_cum_returns.{file_format}'))\n",
    "plt.close()\n",
    "\n",
    "## Dist of Returns\n",
    "fig, ax = portfolio_backtest.plot_dist_returns()\n",
    "fig.savefig(path_result / Path(f'portfolio_dist_returns.{file_format}'))\n",
    "plt.close()\n",
    "\n",
    "# Corr Data\n",
    "fig, ax = portfolio_backtest.plot_corr()\n",
    "fig.savefig(path_result / Path(f'portoflio_corr.{file_format}'))\n",
    "plt.close()"
   ]
  }
 ],
 "metadata": {
  "kernelspec": {
   "display_name": "Python 3 (ipykernel)",
   "language": "python",
   "name": "python3"
  },
  "language_info": {
   "codemirror_mode": {
    "name": "ipython",
    "version": 3
   },
   "file_extension": ".py",
   "mimetype": "text/x-python",
   "name": "python",
   "nbconvert_exporter": "python",
   "pygments_lexer": "ipython3",
   "version": "3.8.10"
  }
 },
 "nbformat": 4,
 "nbformat_minor": 5
}
