{
 "cells": [
  {
   "cell_type": "code",
   "execution_count": null,
   "id": "e11beb25-61b9-47fb-b3cd-cf0b3c57c86c",
   "metadata": {},
   "outputs": [],
   "source": [
    "import os\n",
    "from pathlib import Path\n",
    "import matplotlib.pyplot as plt\n",
    "\n",
    "from dafin import Returns\n",
    "from portfawn import BackTest, MeanVariancePortfolio, MultiPortfolio, PlotMultiPortfolio, BackTest\n",
    "\n",
    "%matplotlib inline"
   ]
  },
  {
   "cell_type": "code",
   "execution_count": null,
   "id": "bc5380ec-0dd7-4765-a25e-59e9f92c9f59",
   "metadata": {},
   "outputs": [],
   "source": [
    "## Parameters\n",
    "\n",
    "# market\n",
    "asset_list = [\"IVV\", \"IJR\", \"ACWX\", \"IEMG\", \"REET\", \"IYR\", \"HYG\", \"AGG\", \"GLD\"]\n",
    "date_start = \"2020-11-01\"\n",
    "date_end = \"2020-12-31\"\n",
    "\n",
    "# portfolio\n",
    "target_return = 0.2\n",
    "target_sd = 0.05\n",
    "weight_bound = (0.02, 0.98)\n",
    "risk_free_rate = 0.00\n",
    "\n",
    "\n",
    "# backtesting\n",
    "fitting_days = 8 * 5\n",
    "evaluation_days = 5\n",
    "portfolio_objectives = [\"EWP\", \"MSRP\", \"MVP\", \"MRP\", \"BMOP\"]\n",
    "n_jobs = 10\n",
    "\n",
    "# misc\n",
    "file_format = 'jpg'\n",
    "\n",
    "# results\n",
    "path_result = Path('./plots')\n",
    "os.makedirs(path_result)"
   ]
  },
  {
   "cell_type": "markdown",
   "id": "89000d6b-7284-48ac-9178-ee7af2a24810",
   "metadata": {},
   "source": [
    "## Returns Data"
   ]
  },
  {
   "cell_type": "code",
   "execution_count": null,
   "id": "f58a6a98-476b-4e46-9a14-52767cd47ba5",
   "metadata": {},
   "outputs": [],
   "source": [
    "# Create the market instance\n",
    "returns_data = Returns(\n",
    "    asset_list = asset_list,\n",
    "    date_start = date_start,\n",
    "    date_end = date_end,\n",
    ")"
   ]
  },
  {
   "cell_type": "code",
   "execution_count": null,
   "id": "5a0a489a-2ff7-472e-970c-be8531211c4d",
   "metadata": {},
   "outputs": [],
   "source": [
    "# Plot the Cum Returns Data\n",
    "fig, ax = returns_data.plot_cum_returns()\n",
    "fig.savefig(path_result / Path(f'market_cum_returns.{file_format}'))\n",
    "plt.close()"
   ]
  },
  {
   "cell_type": "code",
   "execution_count": null,
   "id": "e663e97c-76b9-4b25-9733-a37a1bfc26c7",
   "metadata": {},
   "outputs": [],
   "source": [
    "# Dist of Returns\n",
    "fig, ax = returns_data.plot_dist_returns()\n",
    "fig.savefig(path_result / Path(f'market_dist_returns.{file_format}'))\n",
    "plt.close()"
   ]
  },
  {
   "cell_type": "code",
   "execution_count": null,
   "id": "42a02b94-a1d4-4db9-9357-203a6ab2996c",
   "metadata": {},
   "outputs": [],
   "source": [
    "# Corr Data\n",
    "fig, ax = returns_data.plot_corr()\n",
    "fig.savefig(path_result / Path(f'market_corr.{file_format}'))\n",
    "plt.close()"
   ]
  },
  {
   "cell_type": "markdown",
   "id": "9323156f-9794-4b7e-9051-76516957d907",
   "metadata": {},
   "source": [
    "## Multiple Portoflio"
   ]
  },
  {
   "cell_type": "code",
   "execution_count": null,
   "id": "02aa90d2-322b-404f-a788-09cd190a5237",
   "metadata": {},
   "outputs": [],
   "source": [
    "multi_portfolio = MultiPortfolio(name=\"test\", objectives_list=portfolio_objectives, \n",
    "                                   target_return=target_return,\n",
    "                                   target_sd=target_sd,\n",
    "                                   weight_bound=weight_bound)"
   ]
  },
  {
   "cell_type": "code",
   "execution_count": null,
   "id": "426a6cd4-8f94-4138-a52c-f732c879f777",
   "metadata": {},
   "outputs": [],
   "source": [
    "performance = multi_portfolio.run(asset_list=asset_list, date_start=date_start, date_end=date_end)"
   ]
  },
  {
   "cell_type": "code",
   "execution_count": null,
   "id": "fc320910-155d-4a24-8c2c-486e74a24e08",
   "metadata": {},
   "outputs": [],
   "source": [
    "plot = PlotMultiPortfolio(performance)\n",
    "fig, ax = plot.plot_mean_sd()\n",
    "fig.savefig(path_result / Path(f'multi_portoflio_mean_sd.{file_format}'))\n",
    "plt.close()"
   ]
  },
  {
   "cell_type": "markdown",
   "id": "227399bc-79cd-4dbb-94a5-25512dee2b0b",
   "metadata": {},
   "source": [
    "## Backtesting"
   ]
  },
  {
   "cell_type": "code",
   "execution_count": null,
   "id": "009d0a55-b278-417a-9e0b-dffd8ecc7ffe",
   "metadata": {},
   "outputs": [],
   "source": [
    "portfolio_list = []\n",
    "\n",
    "for obj in portfolio_objectives:\n",
    "    portfolio = MeanVariancePortfolio(\n",
    "        objective=obj,\n",
    "        target_return=target_return,\n",
    "        target_sd=target_sd,\n",
    "        weight_bound=weight_bound,\n",
    "    )\n",
    "    portfolio_list.append(portfolio)"
   ]
  },
  {
   "cell_type": "code",
   "execution_count": null,
   "id": "57345ef2-3318-415a-afb7-255e477da463",
   "metadata": {},
   "outputs": [],
   "source": [
    "portfolio_backtest = BackTest(\n",
    "    portfolio_list=portfolio_list,\n",
    "    asset_list=asset_list,\n",
    "    date_start=date_start,\n",
    "    date_end=date_end,\n",
    "    fitting_days=fitting_days,\n",
    "    evaluation_days=evaluation_days,\n",
    "    n_jobs=n_jobs,\n",
    ")"
   ]
  },
  {
   "cell_type": "code",
   "execution_count": null,
   "id": "9384fda4-7de3-4588-a464-6c42bbe12294",
   "metadata": {},
   "outputs": [],
   "source": [
    "portfolio_backtest.run()"
   ]
  },
  {
   "cell_type": "code",
   "execution_count": null,
   "id": "190b985c-b620-4497-b8f6-a1279b94adbf",
   "metadata": {},
   "outputs": [],
   "source": [
    "fig, ax = portfolio_backtest.plot_cum_returns()\n",
    "fig.savefig(path_result / Path(f'backtest_cum_returns.{file_format}'))\n",
    "plt.close()"
   ]
  },
  {
   "cell_type": "code",
   "execution_count": null,
   "id": "cd0abd55-14fc-4de0-9628-25adede5f1ac",
   "metadata": {},
   "outputs": [],
   "source": [
    "fig, ax = portfolio_backtest.plot_dist_returns()\n",
    "fig.savefig(path_result / Path(f'backtest_dist_returns.{file_format}'))\n",
    "plt.close()"
   ]
  },
  {
   "cell_type": "code",
   "execution_count": null,
   "id": "c990552e-0fcf-4b21-93e7-7a1106315e25",
   "metadata": {},
   "outputs": [],
   "source": [
    "fig, ax = portfolio_backtest.plot_corr()\n",
    "fig.savefig(path_result / Path(f'backtest_corr.{file_format}'))\n",
    "plt.close()"
   ]
  }
 ],
 "metadata": {
  "kernelspec": {
   "display_name": "Python 3 (ipykernel)",
   "language": "python",
   "name": "python3"
  },
  "language_info": {
   "codemirror_mode": {
    "name": "ipython",
    "version": 3
   },
   "file_extension": ".py",
   "mimetype": "text/x-python",
   "name": "python",
   "nbconvert_exporter": "python",
   "pygments_lexer": "ipython3",
   "version": "3.8.10"
  }
 },
 "nbformat": 4,
 "nbformat_minor": 5
}
