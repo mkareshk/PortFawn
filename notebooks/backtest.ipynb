{
 "cells": [
  {
   "cell_type": "code",
   "execution_count": null,
   "id": "9f191cc3-90e6-4239-8a2e-832ac4a821d1",
   "metadata": {},
   "outputs": [],
   "source": [
    "import shutil\n",
    "import hashlib\n",
    "import unittest\n",
    "from pathlib import Path\n",
    "from datetime import datetime\n",
    "import joblib\n",
    "from portfawn.portfolio import BackTest\n",
    "from tests.utils import get_normal_param\n",
    "\n",
    "%matplotlib inline"
   ]
  },
  {
   "cell_type": "markdown",
   "id": "baf87ae6-5f10-4f78-934a-f0c3e7879578",
   "metadata": {},
   "source": [
    "## Setting the Parameters\n",
    "The first step to optimize portfolios is to set the configurations such as the list of tickers, backtesting periods, and sampling and optimization paramters."
   ]
  },
  {
   "cell_type": "code",
   "execution_count": null,
   "id": "b9a47d76-7947-4bb0-aa12-ef9db17eac0a",
   "metadata": {},
   "outputs": [],
   "source": [
    "# tickers\n",
    "tickers = {\"S&P 500\": \"IVV\", \n",
    "           \"Small-Cap\": \"IJR\",\n",
    "           'ACWI ex U.S.': 'ACWX',\n",
    "           \"Emerging Markets\": \"IEMG\", \n",
    "           \"Global REIT\": \"REET\", \n",
    "           'U.S. Real Estate': 'IYR',\n",
    "           'Aggregate Bond': 'AGG',\n",
    "           'Gold': 'GLD',\n",
    "           'Corporate Bond ': 'HYG'\n",
    "          }\n",
    "\n",
    "# date\n",
    "start_date = datetime.strptime(\"2015-01-01\", \"%Y-%m-%d\").date()\n",
    "end_date = datetime.strptime(\"2020-12-31\", \"%Y-%m-%d\").date()\n",
    "training_days = 8 * 5\n",
    "testing_days = 5\n",
    "# market\n",
    "risk_free_rate = 0.0\n",
    "\n",
    "# portfolio\n",
    "portfolio_fitness = {\"MSR\": \"Max Sharpe-Ratio\", \n",
    "                     \"Equal\": \"Equal Weight\", \n",
    "                     'MR': \"Maximum Returns\",\n",
    "                     'MV': 'Minimum Volatility',\n",
    "                     'SA': 'Simulated Annealing'}\n",
    "\n",
    "optimization_params = {\n",
    "    \"scipy_params\": {\n",
    "        \"maxiter\": 1000,\n",
    "        \"disp\": False,\n",
    "        \"ftol\": 1e-10,\n",
    "    },\n",
    "    \"target_return\": 0.2,\n",
    "    \"target_risk\": 0.05,\n",
    "    \"weight_bound\": (0.02, 0.98),\n",
    "}\n",
    "sampling_params = {\"type\": \"standard\"}\n",
    "\n",
    "# system\n",
    "n_jobs = joblib.cpu_count() - 1\n",
    "\n",
    "# backtest\n",
    "backtesting_name = 'test'\n",
    "\n",
    "# config\n",
    "backtesting_config = {\n",
    "    \"backtesting_name\": backtesting_name,\n",
    "    \"portfolio_fitness\": portfolio_fitness,\n",
    "    \"tickers\": tickers,\n",
    "    \"start_date\": start_date,\n",
    "    \"end_date\": end_date,\n",
    "    \"optimization_params\": optimization_params,\n",
    "    \"sampling_params\": sampling_params,\n",
    "    \"training_days\": training_days,\n",
    "    \"testing_days\": testing_days,\n",
    "    \"risk_free_rate\": risk_free_rate,\n",
    "    \"n_jobs\": n_jobs,\n",
    "}"
   ]
  },
  {
   "cell_type": "code",
   "execution_count": null,
   "id": "60f11d9a-01ab-474b-8424-a85af1990e3b",
   "metadata": {},
   "outputs": [],
   "source": [
    "portfolio_backtest = BackTest(**backtesting_config)\n",
    "portfolio_backtest.backtesting_config"
   ]
  },
  {
   "cell_type": "code",
   "execution_count": null,
   "id": "f57be893-bac1-4797-9c47-d8a55c472da8",
   "metadata": {},
   "outputs": [],
   "source": [
    "portfolio_backtest.run()"
   ]
  },
  {
   "cell_type": "code",
   "execution_count": null,
   "id": "30b568a2-1188-40fb-95d6-e0fc1a2ac284",
   "metadata": {},
   "outputs": [],
   "source": [
    "fig, ax = portfolio_backtest.plot_returns()"
   ]
  },
  {
   "cell_type": "code",
   "execution_count": null,
   "id": "5637c131-5e9e-48c7-9e49-73657cbb8efa",
   "metadata": {},
   "outputs": [],
   "source": [
    "fig, ax = portfolio_backtest.plot_cum_returns()"
   ]
  },
  {
   "cell_type": "code",
   "execution_count": null,
   "id": "7bab9f30-a2e2-40c1-ace4-9b669342621b",
   "metadata": {},
   "outputs": [],
   "source": [
    "fig, ax = portfolio_backtest.plot_dist_returns()"
   ]
  },
  {
   "cell_type": "code",
   "execution_count": null,
   "id": "b9e4a8cc-f8ea-40c2-acbe-48e5a6f41275",
   "metadata": {},
   "outputs": [],
   "source": [
    "fig, ax = portfolio_backtest.plot_corr()"
   ]
  },
  {
   "cell_type": "code",
   "execution_count": null,
   "id": "76f276d9-16bb-48cf-99f2-1fffc0e9e348",
   "metadata": {},
   "outputs": [],
   "source": [
    "fig, ax = portfolio_backtest.plot_cov()"
   ]
  },
  {
   "cell_type": "code",
   "execution_count": null,
   "id": "1578dac2-d608-4d3d-b3ef-9c841088fac3",
   "metadata": {},
   "outputs": [],
   "source": [
    "fig, ax = portfolio_backtest.plot_mean_sd()"
   ]
  }
 ],
 "metadata": {
  "kernelspec": {
   "display_name": "Python 3 (ipykernel)",
   "language": "python",
   "name": "python3"
  },
  "language_info": {
   "codemirror_mode": {
    "name": "ipython",
    "version": 3
   },
   "file_extension": ".py",
   "mimetype": "text/x-python",
   "name": "python",
   "nbconvert_exporter": "python",
   "pygments_lexer": "ipython3",
   "version": "3.8.10"
  }
 },
 "nbformat": 4,
 "nbformat_minor": 5
}
