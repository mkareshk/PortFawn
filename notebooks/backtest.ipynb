{
 "cells": [
  {
   "cell_type": "code",
   "execution_count": null,
   "id": "9f191cc3-90e6-4239-8a2e-832ac4a821d1",
   "metadata": {},
   "outputs": [],
   "source": [
    "import shutil\n",
    "import hashlib\n",
    "import unittest\n",
    "from pathlib import Path\n",
    "from datetime import datetime\n",
    "import joblib\n",
    "from portfawn.portfolio import BackTest, BackTestAnalysis\n",
    "from tests.utils import get_normal_param\n",
    "\n",
    "%matplotlib inline"
   ]
  },
  {
   "cell_type": "markdown",
   "id": "baf87ae6-5f10-4f78-934a-f0c3e7879578",
   "metadata": {},
   "source": [
    "## Setting the Parameters\n",
    "The first step to optimize portfolios is to set the configurations such as the list of tickers, backtesting periods, and sampling and optimization paramters."
   ]
  },
  {
   "cell_type": "code",
   "execution_count": null,
   "id": "b9a47d76-7947-4bb0-aa12-ef9db17eac0a",
   "metadata": {},
   "outputs": [],
   "source": [
    "# tickers\n",
    "tickers = {\"Global REIT\": \"REET\", \n",
    "           \"MSCI Emerging Markets\": \"EEM\", \n",
    "           \"Core S&P Total U.S. Stock Market\": \"ITOT\"}\n",
    "\n",
    "# date\n",
    "start_date = datetime.strptime(\"2015-01-01\", \"%Y-%m-%d\").date()\n",
    "end_date = datetime.strptime(\"2020-12-31\", \"%Y-%m-%d\").date()\n",
    "training_days = 5 * 252\n",
    "testing_days = 252\n",
    "\n",
    "# market\n",
    "risk_free_rate = 0.0\n",
    "\n",
    "# portfolio\n",
    "portfolio_fitness = {\"MSR\": \"Max Sharpe-Ratio\", \n",
    "                     \"Equal\": \"Equal Weight\", 'MR': \"Maximum Returns\"}\n",
    "\n",
    "optimization_params = {\n",
    "    \"scipy_params\": {\n",
    "        \"maxiter\": 1000,\n",
    "        \"disp\": False,\n",
    "        \"ftol\": 1e-10,\n",
    "    },\n",
    "    \"target_return\": 0.1,\n",
    "    \"target_risk\": 0.1,\n",
    "    \"weight_bound\": (0.0, 1.0),\n",
    "}\n",
    "sampling_params = {\"type\": \"standard\"}\n",
    "\n",
    "# system\n",
    "n_jobs = joblib.cpu_count() - 1\n",
    "\n",
    "# backtest\n",
    "backtesting_name = 'test'\n",
    "\n",
    "# config\n",
    "backtesting_config = {\n",
    "    \"backtesting_name\": backtesting_name,\n",
    "    \"portfolio_fitness\": portfolio_fitness,\n",
    "    \"tickers\": tickers,\n",
    "    \"start_date\": start_date,\n",
    "    \"end_date\": end_date,\n",
    "    \"optimization_params\": optimization_params,\n",
    "    \"sampling_params\": sampling_params,\n",
    "    \"training_days\": training_days,\n",
    "    \"testing_days\": testing_days,\n",
    "    \"risk_free_rate\": risk_free_rate,\n",
    "    \"n_jobs\": n_jobs,\n",
    "}"
   ]
  },
  {
   "cell_type": "code",
   "execution_count": null,
   "id": "60f11d9a-01ab-474b-8424-a85af1990e3b",
   "metadata": {},
   "outputs": [],
   "source": [
    "portfolio_backtest = BackTest(**backtesting_config)\n",
    "portfolio_backtest.backtesting_config"
   ]
  },
  {
   "cell_type": "code",
   "execution_count": null,
   "id": "24c953cf-dcff-423d-b604-43358bb1a71e",
   "metadata": {},
   "outputs": [],
   "source": []
  },
  {
   "cell_type": "code",
   "execution_count": null,
   "id": "f57be893-bac1-4797-9c47-d8a55c472da8",
   "metadata": {},
   "outputs": [],
   "source": [
    "portfolio_backtest.run()"
   ]
  },
  {
   "cell_type": "code",
   "execution_count": null,
   "id": "40f6f8da-0a7a-4915-b537-f06b37a092be",
   "metadata": {},
   "outputs": [],
   "source": [
    "data_list = []\n",
    "\n",
    "for profile in portfolio_backtest.profile_backtesting:\n",
    "    for mode in ['profile_training', 'profile_testing']:\n",
    "        \n",
    "        curr = profile[mode]\n",
    "        d = {'type': curr['type'], \n",
    "             'portfolio_fitness': curr['portfolio_fitness'], \n",
    "             'date_start': curr['date_start'], \n",
    "             'date_end': curr['date_end'], \n",
    "             'date': curr['date'], \n",
    "             'portfolio_asset_total_return': curr['portfolio_asset_total_return'].to_dict(), \n",
    "             'portfolio_asset_mean_std': curr['portfolio_asset_mean_std'].to_dict(), \n",
    "             'asset_weights_dict': curr['asset_weights_dict'], \n",
    "             'execution_time': curr['execution_time'], \n",
    "             'optimization_params': curr['optimization_params'], \n",
    "             'sampling_params': curr['sampling_params'], \n",
    "             'mode': mode,\n",
    "             }\n",
    "        \n",
    "        data_list.append(d)\n",
    "    \n",
    "\n",
    "import pandas as pd\n",
    "profile_df = pd.DataFrame(data_list)\n",
    "profile_df"
   ]
  },
  {
   "cell_type": "code",
   "execution_count": null,
   "id": "dd51144a-573e-420c-920b-8dc1e1fb4712",
   "metadata": {},
   "outputs": [],
   "source": [
    "hash = hashlib.md5(\n",
    "    \"\".join([str(i) for i in backtesting_config.values()]).encode(\"utf-8\")\n",
    ").hexdigest()[0:6]\n",
    "dirname = f\"results_{hash}\"\n",
    "analysis = BackTestAnalysis(portfolio_backtest, result_path=Path(dirname))"
   ]
  },
  {
   "cell_type": "code",
   "execution_count": null,
   "id": "30b568a2-1188-40fb-95d6-e0fc1a2ac284",
   "metadata": {},
   "outputs": [],
   "source": [
    "fig, ax = analysis.plot_returns()"
   ]
  },
  {
   "cell_type": "code",
   "execution_count": null,
   "id": "5637c131-5e9e-48c7-9e49-73657cbb8efa",
   "metadata": {},
   "outputs": [],
   "source": [
    "fig, ax = analysis.plot_cum_returns()"
   ]
  },
  {
   "cell_type": "code",
   "execution_count": null,
   "id": "7bab9f30-a2e2-40c1-ace4-9b669342621b",
   "metadata": {},
   "outputs": [],
   "source": [
    "fig, ax = analysis.plot_dist_returns()"
   ]
  },
  {
   "cell_type": "code",
   "execution_count": null,
   "id": "b9e4a8cc-f8ea-40c2-acbe-48e5a6f41275",
   "metadata": {},
   "outputs": [],
   "source": [
    "fig, ax = analysis.plot_corr()"
   ]
  },
  {
   "cell_type": "code",
   "execution_count": null,
   "id": "76f276d9-16bb-48cf-99f2-1fffc0e9e348",
   "metadata": {},
   "outputs": [],
   "source": [
    "fig, ax = analysis.plot_cov()"
   ]
  },
  {
   "cell_type": "code",
   "execution_count": null,
   "id": "eb40ad2f-57eb-4e6d-8c56-d4bd610f5645",
   "metadata": {},
   "outputs": [],
   "source": [
    "fig, ax = analysis.plot_asset_weights()"
   ]
  },
  {
   "cell_type": "code",
   "execution_count": null,
   "id": "f994e648-91fa-457f-8f61-af2b8c87eef1",
   "metadata": {},
   "outputs": [],
   "source": [
    "#fig, ax = analysis.plot_mean_std(annualized=True)"
   ]
  },
  {
   "cell_type": "code",
   "execution_count": null,
   "id": "1578dac2-d608-4d3d-b3ef-9c841088fac3",
   "metadata": {},
   "outputs": [],
   "source": []
  },
  {
   "cell_type": "code",
   "execution_count": null,
   "id": "04d7debd-4f69-426b-b1f5-6c04acee17bc",
   "metadata": {},
   "outputs": [],
   "source": []
  },
  {
   "cell_type": "code",
   "execution_count": null,
   "id": "8324fe45-8e3e-4a19-87d1-b186b1ce1703",
   "metadata": {},
   "outputs": [],
   "source": []
  },
  {
   "cell_type": "code",
   "execution_count": null,
   "id": "bbad0518-ab4f-443d-8936-8f60ed851654",
   "metadata": {},
   "outputs": [],
   "source": [
    "import numpy as np\n",
    "import pandas as pd\n",
    "dd = 252"
   ]
  },
  {
   "cell_type": "code",
   "execution_count": null,
   "id": "6c2a3cf0-74d3-4c60-a06b-d99c37c26ea4",
   "metadata": {},
   "outputs": [],
   "source": [
    "market_data = 100 * analysis.portfolio_backtesting.market_data.data_returns.loc[analysis.portfolio_backtesting.start_date:analysis.portfolio_backtesting.end_date]\n",
    "mean_std = pd.DataFrame(columns=[\"mean\", \"std\"])\n",
    "mean_std[\"mean\"] = market_data.mean() \n",
    "mean_std[\"std\"] = market_data.std() \n",
    "\n",
    "mean_std"
   ]
  },
  {
   "cell_type": "code",
   "execution_count": null,
   "id": "9e7d0aa7-3e68-40fb-97ad-b246d3cb7344",
   "metadata": {},
   "outputs": [],
   "source": [
    "# profile_backtesting_test = [\n",
    "#             i[\"profile_training\"] for i in analysis.profile_backtesting\n",
    "#         ].copy()\n",
    "# returns_df = pd.DataFrame(profile_backtesting_test)[\n",
    "#             [\"date\", \"portfolio_fitness\", \"daily_return\"]\n",
    "#         ]\n",
    "\n",
    "# port_data = analysis.portfolio_returns_df\n",
    "# port_mean_std = pd.DataFrame(columns=[\"mean\", \"std\"])\n",
    "# port_mean_std[\"mean\"] = port_data.mean() * dd\n",
    "# port_mean_std[\"std\"] = port_data.std() * np.sqrt(dd)\n",
    "\n",
    "port_mean_std = analysis._mean_std\n",
    "port_mean_std"
   ]
  },
  {
   "cell_type": "code",
   "execution_count": null,
   "id": "48b41dea-ab49-4fbf-af0b-f0627b62d3ba",
   "metadata": {},
   "outputs": [],
   "source": [
    "import pandas as pd\n",
    "import matplotlib.pyplot as plt\n",
    "fig, ax = plt.subplots(figsize=(15, 8))\n",
    "\n",
    "mean_std.plot.scatter(x=\"std\", y=\"mean\", ax=ax, c='green', s=200, alpha=0.8, label='Assets')\n",
    "port_mean_std.plot.scatter(x=\"std\", y=\"mean\", ax=ax, c='blue', s=200, alpha=0.8, label='Portfolio')\n",
    "\n",
    "x_min, x_max = mean_std[\"std\"].min(), mean_std[\"std\"].max()\n",
    "x_diff = x_max - x_min\n",
    "y_min, y_max = port_mean_std[\"mean\"].min(), port_mean_std[\"mean\"].max()\n",
    "y_diff = y_max - y_min\n",
    "        \n",
    "        \n",
    "for i, point in mean_std.iterrows():\n",
    "    ax.text(\n",
    "        point[\"std\"] - x_diff * 0.05,\n",
    "        point[\"mean\"] + y_diff * 0.05,\n",
    "        i,\n",
    "        fontsize=14,\n",
    "    )\n",
    "for i, point in port_mean_std.iterrows():\n",
    "    ax.text(\n",
    "        point[\"std\"] - x_diff * 0.05,\n",
    "        point[\"mean\"] + y_diff * 0.05,\n",
    "        i,\n",
    "        fontsize=14,\n",
    "    )"
   ]
  },
  {
   "cell_type": "code",
   "execution_count": null,
   "id": "b22f2e35-8705-4e30-9285-26fc7e7c7d3c",
   "metadata": {},
   "outputs": [],
   "source": []
  },
  {
   "cell_type": "code",
   "execution_count": null,
   "id": "0a7d118b-4ac2-4f91-a412-3f4be1c458af",
   "metadata": {},
   "outputs": [],
   "source": []
  },
  {
   "cell_type": "code",
   "execution_count": null,
   "id": "ea85a134-59de-4dda-a5f8-54ba03fb9919",
   "metadata": {},
   "outputs": [],
   "source": []
  },
  {
   "cell_type": "code",
   "execution_count": null,
   "id": "da5c5899-5f55-4677-8e67-ae9266be9edc",
   "metadata": {},
   "outputs": [],
   "source": []
  },
  {
   "cell_type": "code",
   "execution_count": null,
   "id": "bb26b385-e738-4860-a37c-af660d758d40",
   "metadata": {},
   "outputs": [],
   "source": []
  },
  {
   "cell_type": "code",
   "execution_count": null,
   "id": "570f114c-140d-43ca-802a-ae9ed51bfdcd",
   "metadata": {},
   "outputs": [],
   "source": []
  },
  {
   "cell_type": "code",
   "execution_count": null,
   "id": "d5565ccf-31fa-4b90-9810-ac744511ff4d",
   "metadata": {},
   "outputs": [],
   "source": []
  },
  {
   "cell_type": "code",
   "execution_count": null,
   "id": "5a499766-a4ed-4ec6-ada5-7ba3815f36c4",
   "metadata": {},
   "outputs": [],
   "source": []
  }
 ],
 "metadata": {
  "kernelspec": {
   "display_name": "Python 3 (ipykernel)",
   "language": "python",
   "name": "python3"
  },
  "language_info": {
   "codemirror_mode": {
    "name": "ipython",
    "version": 3
   },
   "file_extension": ".py",
   "mimetype": "text/x-python",
   "name": "python",
   "nbconvert_exporter": "python",
   "pygments_lexer": "ipython3",
   "version": "3.8.10"
  }
 },
 "nbformat": 4,
 "nbformat_minor": 5
}
