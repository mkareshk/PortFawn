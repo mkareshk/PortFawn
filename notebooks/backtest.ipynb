{
 "cells": [
  {
   "cell_type": "code",
   "execution_count": null,
   "id": "9f191cc3-90e6-4239-8a2e-832ac4a821d1",
   "metadata": {},
   "outputs": [],
   "source": [
    "from portfawn import BackTest\n",
    "from portfawn import MeanVariancePortfolio\n",
    "\n",
    "%matplotlib inline"
   ]
  },
  {
   "cell_type": "markdown",
   "id": "baf87ae6-5f10-4f78-934a-f0c3e7879578",
   "metadata": {},
   "source": [
    "## Parameters"
   ]
  },
  {
   "cell_type": "code",
   "execution_count": null,
   "id": "0a8e6b8f-ad22-4d75-b48e-f30f13aa3f28",
   "metadata": {},
   "outputs": [],
   "source": [
    "# tickers\n",
    "asset_list = ['SPY', 'BND', 'GLD']\n",
    "\n",
    "# date\n",
    "date_start = \"2008-01-01\"\n",
    "date_end = \"2020-12-31\"\n",
    "fitting_days = 3 * 4 * 5\n",
    "evaluation_days = 1 * 4 * 5\n",
    "\n",
    "# market\n",
    "risk_free_rate = 0.0\n",
    "\n",
    "# portfolio\n",
    "portfolio_objectives = [\"EWP\", \"MSRP\", \"MVP\", \"MRP\", \"BMOP\"]\n",
    "target_return = 0.2\n",
    "target_sd = 0.05\n",
    "weight_bound = (0.02, 0.98)\n",
    "\n",
    "# system\n",
    "n_jobs = 10\n",
    "\n",
    "# backtest\n",
    "backtesting_name = \"test\""
   ]
  },
  {
   "cell_type": "markdown",
   "id": "2b444869-3336-405a-bcc9-b0bd4f09764a",
   "metadata": {},
   "source": [
    "## Backtesting"
   ]
  },
  {
   "cell_type": "code",
   "execution_count": null,
   "id": "e48cc71d-08ea-41d6-99b4-5bf4d9276227",
   "metadata": {},
   "outputs": [],
   "source": [
    "portfolio_list = []\n",
    "\n",
    "for obj in portfolio_objectives:\n",
    "    portfolio = MeanVariancePortfolio(\n",
    "        objective=obj,\n",
    "        target_return=target_return,\n",
    "        target_sd=target_sd,\n",
    "        weight_bound=weight_bound,\n",
    "    )\n",
    "    portfolio_list.append(portfolio)"
   ]
  },
  {
   "cell_type": "code",
   "execution_count": null,
   "id": "8328302f-d3d3-4dc1-8ba3-f36f7a79239b",
   "metadata": {},
   "outputs": [],
   "source": [
    "portfolio_backtest = BackTest(\n",
    "    portfolio_list=portfolio_list,\n",
    "    asset_list=asset_list,\n",
    "    date_start=date_start,\n",
    "    date_end=date_end,\n",
    "    fitting_days=fitting_days,\n",
    "    evaluation_days=evaluation_days,\n",
    "    n_jobs=n_jobs,\n",
    ")"
   ]
  },
  {
   "cell_type": "code",
   "execution_count": null,
   "id": "d1127a05-9f50-4c01-9fbe-d5a2829d169e",
   "metadata": {},
   "outputs": [],
   "source": [
    "portfolio_backtest.run()"
   ]
  },
  {
   "cell_type": "markdown",
   "id": "dd04cafd-3809-4f37-b873-04b74eb135c3",
   "metadata": {},
   "source": [
    "## Backtesting Returns"
   ]
  },
  {
   "cell_type": "code",
   "execution_count": null,
   "id": "2fe3a16e-59ed-4f17-9ac6-fa60ba3e50c6",
   "metadata": {},
   "outputs": [],
   "source": [
    "fig, ax = portfolio_backtest.plot_returns()"
   ]
  },
  {
   "cell_type": "markdown",
   "id": "d877dcf9-4b9c-4e0c-a7da-104eb1942bbc",
   "metadata": {},
   "source": [
    "## Backtesting cumulative Returns"
   ]
  },
  {
   "cell_type": "code",
   "execution_count": null,
   "id": "975e22dd-cab8-40f7-be19-60aa6f92801a",
   "metadata": {},
   "outputs": [],
   "source": [
    "fig, ax = portfolio_backtest.plot_cum_returns()"
   ]
  },
  {
   "cell_type": "markdown",
   "id": "f11eb646-add9-40ca-be6d-ea04b0eae0ad",
   "metadata": {},
   "source": [
    "## Backtesting of Portfolio Returns"
   ]
  },
  {
   "cell_type": "code",
   "execution_count": null,
   "id": "3a1859d5-e647-466e-9659-66e2c16f1bf2",
   "metadata": {},
   "outputs": [],
   "source": [
    "fig, ax = portfolio_backtest.plot_dist_returns()"
   ]
  },
  {
   "cell_type": "markdown",
   "id": "881d966e-a8fb-4fc8-8a29-6e2fcf84b68c",
   "metadata": {},
   "source": [
    "## Backtesting of Returns"
   ]
  },
  {
   "cell_type": "code",
   "execution_count": null,
   "id": "58a6977e-9c30-415f-a25a-10079264e032",
   "metadata": {},
   "outputs": [],
   "source": [
    "fig, ax = portfolio_backtest.plot_corr()"
   ]
  },
  {
   "cell_type": "code",
   "execution_count": null,
   "id": "b3c9fd54-6005-4bc2-b645-9407527522bd",
   "metadata": {},
   "outputs": [],
   "source": [
    "fig, ax = portfolio_backtest.plot_cov()"
   ]
  }
 ],
 "metadata": {
  "kernelspec": {
   "display_name": "Python 3 (ipykernel)",
   "language": "python",
   "name": "python3"
  },
  "language_info": {
   "codemirror_mode": {
    "name": "ipython",
    "version": 3
   },
   "file_extension": ".py",
   "mimetype": "text/x-python",
   "name": "python",
   "nbconvert_exporter": "python",
   "pygments_lexer": "ipython3",
   "version": "3.8.10"
  }
 },
 "nbformat": 4,
 "nbformat_minor": 5
}
