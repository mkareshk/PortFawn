{
 "cells": [
  {
   "cell_type": "code",
   "execution_count": null,
   "id": "0f9e39b1-2c78-4771-8558-a672e59baa3a",
   "metadata": {},
   "outputs": [],
   "source": [
    "import pandas as pd\n",
    "\n",
    "from portfawn.market_data import MarketData\n",
    "from portfawn.portfolio import Portfolio\n",
    "\n",
    "%matplotlib inline"
   ]
  },
  {
   "cell_type": "code",
   "execution_count": null,
   "id": "e442cc84-763c-4825-8098-defebdddcabf",
   "metadata": {},
   "outputs": [],
   "source": [
    "## Parameters\n",
    "# market data\n",
    "tickers = {\"NASDAQ\": \"^IXIC\", \n",
    "              \"RUSSELL2000\": \"^RUT\", \n",
    "              \"S&P500\": \"^GSPC\", \n",
    "              \"HANG SENG INDEX\": \"^HSI\"}\n",
    "asset_list = list(tickers.values())\n",
    "\n",
    "# date\n",
    "start_date = \"2000-01-01\"\n",
    "end_date   = \"2020-12-30\"\n",
    "\n",
    "# portfolio\n",
    "portfolio_fitness = \"Equal\"\n",
    "risk_free_rate = 0.0\n",
    "sampling_params = {\"type\": \"standard\"}\n",
    "optimization_params = {\n",
    "    \"scipy_params\": {\n",
    "        \"maxiter\": 1000,\n",
    "        \"disp\": False,\n",
    "        \"ftol\": 1e-10,\n",
    "    },\n",
    "    \"target_return\": 0.1,\n",
    "    \"target_risk\": 0.1,\n",
    "    \"weight_bound\": (0.0, 1.0),\n",
    "}"
   ]
  },
  {
   "cell_type": "code",
   "execution_count": null,
   "id": "f35d31dd-06cb-4797-9f4c-338103252b01",
   "metadata": {},
   "outputs": [],
   "source": [
    "## Create the market instance\n",
    "market_data = MarketData(\n",
    "    tickers = tickers,\n",
    "    date_start = start_date,\n",
    "    date_end = end_date,\n",
    "    col_price = \"Close\",\n",
    ")\n",
    "data_returns = market_data.data_returns"
   ]
  },
  {
   "cell_type": "code",
   "execution_count": null,
   "id": "88d691dc-3c9a-4060-b59d-39921f0c910a",
   "metadata": {},
   "outputs": [],
   "source": [
    "portfolio = Portfolio(\n",
    "        portfolio_fitness=portfolio_fitness,\n",
    "        data_returns=data_returns,\n",
    "        risk_free_rate=risk_free_rate,\n",
    "        optimization_params=optimization_params,\n",
    "        sampling_params=sampling_params,\n",
    "    )\n",
    "portfolio.optimize()\n",
    "portfolio.evaluate()"
   ]
  },
  {
   "cell_type": "code",
   "execution_count": null,
   "id": "89234051-1292-4010-887e-89e01c578e86",
   "metadata": {},
   "outputs": [],
   "source": []
  },
  {
   "cell_type": "code",
   "execution_count": null,
   "id": "a84a3300-df13-46a5-8aae-4e256e38553e",
   "metadata": {},
   "outputs": [],
   "source": []
  },
  {
   "cell_type": "code",
   "execution_count": null,
   "id": "90957247-5b6d-4c2a-9062-ba908d6865a5",
   "metadata": {},
   "outputs": [],
   "source": [
    "# fig, ax = portfolio.plot_returns()"
   ]
  },
  {
   "cell_type": "code",
   "execution_count": null,
   "id": "9598b18e-450b-42fe-b7db-4de95ab6b51f",
   "metadata": {},
   "outputs": [],
   "source": [
    "# fig, ax = portfolio.plot_cum_returns()"
   ]
  },
  {
   "cell_type": "code",
   "execution_count": null,
   "id": "aa7ed0c2-f42d-4829-af62-b891461ff435",
   "metadata": {},
   "outputs": [],
   "source": [
    "# fig, ax = portfolio.plot_dist_returns()"
   ]
  },
  {
   "cell_type": "code",
   "execution_count": null,
   "id": "6f7f73da-1242-4b42-ab78-e876b73bebc3",
   "metadata": {},
   "outputs": [],
   "source": [
    "# fig, ax = portfolio.plot_corr()"
   ]
  },
  {
   "cell_type": "code",
   "execution_count": null,
   "id": "b81e806f-0f76-4b09-a23f-8dc1b3bfa0f8",
   "metadata": {},
   "outputs": [],
   "source": [
    "# fig, ax = portfolio.plot_cov()"
   ]
  },
  {
   "cell_type": "code",
   "execution_count": null,
   "id": "1eae971d-40f2-40bf-b12f-ffc47b358f50",
   "metadata": {},
   "outputs": [],
   "source": [
    "# fig, ax = portfolio.plot_mean_std()"
   ]
  },
  {
   "cell_type": "code",
   "execution_count": null,
   "id": "ff3b1bd0-ad0b-4ec7-89b7-62c3f6f2da08",
   "metadata": {},
   "outputs": [],
   "source": [
    "\n"
   ]
  },
  {
   "cell_type": "code",
   "execution_count": null,
   "id": "f4a56d13-1d28-400d-85cb-121ed6803212",
   "metadata": {},
   "outputs": [],
   "source": []
  },
  {
   "cell_type": "code",
   "execution_count": null,
   "id": "cac39ada-59df-436d-ad05-97c04e9aeec6",
   "metadata": {},
   "outputs": [],
   "source": [
    "import numpy as np\n",
    "from portfawn.plot import Plot\n",
    "\n",
    "plot = Plot()\n",
    "\n",
    "\n",
    "portfolio_fitness_list = [\"Equal\", \"MSR\", \"MR\", \"MV\"]\n",
    "mean_std_list = []\n",
    "\n",
    "for portfolio_fitness in portfolio_fitness_list:\n",
    "    portfolio = Portfolio(\n",
    "        portfolio_fitness=portfolio_fitness,\n",
    "        data_returns=portfolio.data_returns,\n",
    "    )\n",
    "\n",
    "    portfolio.optimize()\n",
    "    portfolio.evaluate()\n",
    "    mean_std_list.append(portfolio.performance[\"portfolio_mean_std\"])\n",
    "\n",
    "market_mean_std = portfolio.performance[\"market_mean_std\"]\n",
    "portfolio_mean_std = pd.concat(mean_std_list, axis=0)\n",
    "\n",
    "market_mean_std[\"mean\"] *= 252\n",
    "market_mean_std[\"std\"] *= np.sqrt(252)\n",
    "portfolio_mean_std[\"mean\"] *= 252\n",
    "portfolio_mean_std[\"std\"] *= np.sqrt(252)"
   ]
  },
  {
   "cell_type": "code",
   "execution_count": null,
   "id": "3ffe0ece-fafc-4553-936e-97600b0dd9f0",
   "metadata": {},
   "outputs": [],
   "source": [
    "n = 100000\n",
    "annualized = 252\n",
    "returns_np = portfolio.data_returns.to_numpy()\n",
    "cov = portfolio.data_returns.cov().to_numpy()\n",
    "r_list = []\n",
    "for i in range(n):\n",
    "    w_rand = np.random.random((1, cov.shape[0]))\n",
    "    w_rand = w_rand / w_rand.sum()\n",
    "    r = returns_np.dot(w_rand.T).mean() * annualized\n",
    "    c = np.sqrt(w_rand.dot(cov).dot(w_rand.T))[0][0] * np.sqrt(annualized)\n",
    "    r_list.append({\"mean\": r, \"std\": c})\n",
    "mean_std_random = pd.DataFrame(r_list)"
   ]
  },
  {
   "cell_type": "code",
   "execution_count": null,
   "id": "538c7f0e-c09c-49e0-bec7-9816f8f44cf6",
   "metadata": {},
   "outputs": [],
   "source": [
    "\n",
    "fig, ax = plot.plot_scatter_portfolio_random(\n",
    "    df_1=market_mean_std,\n",
    "    df_2=portfolio_mean_std,\n",
    "    df_3=mean_std_random,\n",
    "    title=\"Expected Returns vs. Volatility\",\n",
    "    xlabel=\"Volatility (STD)\",\n",
    "    ylabel=\"Expected Returns\",\n",
    ")\n"
   ]
  }
 ],
 "metadata": {
  "kernelspec": {
   "display_name": "Python 3 (ipykernel)",
   "language": "python",
   "name": "python3"
  },
  "language_info": {
   "codemirror_mode": {
    "name": "ipython",
    "version": 3
   },
   "file_extension": ".py",
   "mimetype": "text/x-python",
   "name": "python",
   "nbconvert_exporter": "python",
   "pygments_lexer": "ipython3",
   "version": "3.8.10"
  }
 },
 "nbformat": 4,
 "nbformat_minor": 5
}
