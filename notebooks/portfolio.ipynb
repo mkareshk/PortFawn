{
 "cells": [
  {
   "cell_type": "code",
   "execution_count": null,
   "id": "0f9e39b1-2c78-4771-8558-a672e59baa3a",
   "metadata": {},
   "outputs": [],
   "source": [
    "import pandas as pd\n",
    "\n",
    "from portfawn.market_data import MarketData\n",
    "from portfawn.portfolio import Portfolio\n",
    "\n",
    "%matplotlib inline"
   ]
  },
  {
   "cell_type": "code",
   "execution_count": null,
   "id": "e442cc84-763c-4825-8098-defebdddcabf",
   "metadata": {},
   "outputs": [],
   "source": [
    "## Parameters\n",
    "# market data\n",
    "\n",
    "tickers = {\"S&P 500\": \"IVV\", \n",
    "           \"Small-Cap\": \"IJR\",\n",
    "           'ACWI ex U.S.': 'ACWX',\n",
    "           \"Emerging Markets\": \"IEMG\", \n",
    "           \"Global REIT\": \"REET\", \n",
    "           'U.S. Real Estate': 'IYR',\n",
    "           'Aggregate Bond': 'AGG',\n",
    "           'Gold': 'GLD',\n",
    "           'Corporate Bond ': 'HYG'\n",
    "          }\n",
    "\n",
    "\n",
    "# date\n",
    "start_date = \"2015-01-01\"\n",
    "end_date   = \"2020-12-31\"\n",
    "\n",
    "# portfolio\n",
    "portfolio_fitness = \"SA\"\n",
    "risk_free_rate = 0.00\n",
    "sampling_params = {\"type\": \"standard\"}\n",
    "optimization_params = {\n",
    "    \"scipy_params\": {\n",
    "        \"maxiter\": 1000,\n",
    "        \"disp\": False,\n",
    "        \"ftol\": 1e-10,\n",
    "    },\n",
    "    \"target_return\": 0.2,\n",
    "    \"target_risk\": 0.05,\n",
    "    \"weight_bound\": (0.02, 0.98),\n",
    "}"
   ]
  },
  {
   "cell_type": "code",
   "execution_count": null,
   "id": "f35d31dd-06cb-4797-9f4c-338103252b01",
   "metadata": {},
   "outputs": [],
   "source": [
    "## Create the market instance\n",
    "market_data = MarketData(\n",
    "    tickers = tickers,\n",
    "    date_start = start_date,\n",
    "    date_end = end_date,\n",
    "    col_price = \"Close\",\n",
    ")\n",
    "data_returns = market_data.data_returns"
   ]
  },
  {
   "cell_type": "code",
   "execution_count": null,
   "id": "88d691dc-3c9a-4060-b59d-39921f0c910a",
   "metadata": {},
   "outputs": [],
   "source": [
    "portfolio = Portfolio(\n",
    "        portfolio_fitness=portfolio_fitness,\n",
    "        data_returns=data_returns,\n",
    "        risk_free_rate=risk_free_rate,\n",
    "        optimization_params=optimization_params,\n",
    "        sampling_params=sampling_params,\n",
    "    )\n",
    "portfolio.optimize()\n",
    "portfolio.evaluate()"
   ]
  },
  {
   "cell_type": "markdown",
   "id": "1714c3f6-a47f-4411-8480-3ad3e0ec303a",
   "metadata": {},
   "source": [
    "## Portfolio Returns"
   ]
  },
  {
   "cell_type": "code",
   "execution_count": null,
   "id": "89234051-1292-4010-887e-89e01c578e86",
   "metadata": {},
   "outputs": [],
   "source": [
    "portfolio.performance['portfolio_returns'].head(3)"
   ]
  },
  {
   "cell_type": "code",
   "execution_count": null,
   "id": "1f5feff4-b906-47b4-9f95-ff711ba4a94b",
   "metadata": {},
   "outputs": [],
   "source": [
    "portfolio.performance['portfolio_assets_returns'].head(3)"
   ]
  },
  {
   "cell_type": "code",
   "execution_count": null,
   "id": "a84a3300-df13-46a5-8aae-4e256e38553e",
   "metadata": {},
   "outputs": [],
   "source": [
    "fig, ax = portfolio.plot_returns()"
   ]
  },
  {
   "cell_type": "markdown",
   "id": "e971208f-0147-44e5-af6e-f2142a016794",
   "metadata": {},
   "source": [
    "## Portfolio cumulative Returns"
   ]
  },
  {
   "cell_type": "code",
   "execution_count": null,
   "id": "25ad022e-a1e9-4080-a051-d66a899bbe2f",
   "metadata": {},
   "outputs": [],
   "source": [
    "portfolio.performance['portfolio_cum_returns'].head(3)"
   ]
  },
  {
   "cell_type": "code",
   "execution_count": null,
   "id": "b1841e87-2202-460b-850a-1847e3d115fb",
   "metadata": {},
   "outputs": [],
   "source": [
    "fig, ax = portfolio.plot_cum_returns()"
   ]
  },
  {
   "cell_type": "markdown",
   "id": "bc0163d3-7fce-4594-ad8b-89c81d11c59a",
   "metadata": {},
   "source": [
    "## Distributions of Portfolio Returns"
   ]
  },
  {
   "cell_type": "code",
   "execution_count": null,
   "id": "7a2e901d-5c5e-4b99-9487-e00d9e8f2f4f",
   "metadata": {},
   "outputs": [],
   "source": [
    "portfolio.performance['portfolio_assets_returns'].describe()"
   ]
  },
  {
   "cell_type": "code",
   "execution_count": null,
   "id": "3c99404e-36fe-4fbe-a0b4-67988e78653b",
   "metadata": {},
   "outputs": [],
   "source": [
    "fig, ax = portfolio.plot_dist_returns()"
   ]
  },
  {
   "cell_type": "markdown",
   "id": "d5b9d82f-138a-49ca-ba0f-b0a453276f61",
   "metadata": {},
   "source": [
    "## Relationships of Returns"
   ]
  },
  {
   "cell_type": "code",
   "execution_count": null,
   "id": "9598b18e-450b-42fe-b7db-4de95ab6b51f",
   "metadata": {},
   "outputs": [],
   "source": [
    "# Cov Data\n",
    "portfolio.performance['portfolio_assets_returns'].cov()"
   ]
  },
  {
   "cell_type": "code",
   "execution_count": null,
   "id": "aa7ed0c2-f42d-4829-af62-b891461ff435",
   "metadata": {},
   "outputs": [],
   "source": [
    "# Cov plot\n",
    "fig, ax = portfolio.plot_cov()"
   ]
  },
  {
   "cell_type": "code",
   "execution_count": null,
   "id": "6f7f73da-1242-4b42-ab78-e876b73bebc3",
   "metadata": {},
   "outputs": [],
   "source": [
    "# Corr Data\n",
    "portfolio.performance['portfolio_assets_returns'].corr()"
   ]
  },
  {
   "cell_type": "code",
   "execution_count": null,
   "id": "b81e806f-0f76-4b09-a23f-8dc1b3bfa0f8",
   "metadata": {},
   "outputs": [],
   "source": [
    "# Corr plot\n",
    "fig, ax = portfolio.plot_corr()"
   ]
  },
  {
   "cell_type": "markdown",
   "id": "72a4f841-50ec-4e86-aa0e-f6bf31741a37",
   "metadata": {},
   "source": [
    "## Expected Returns vs. Volatility"
   ]
  },
  {
   "cell_type": "code",
   "execution_count": null,
   "id": "ff3b1bd0-ad0b-4ec7-89b7-62c3f6f2da08",
   "metadata": {},
   "outputs": [],
   "source": [
    "fig, ax = portfolio.plot_mean_sd()"
   ]
  }
 ],
 "metadata": {
  "kernelspec": {
   "display_name": "Python 3 (ipykernel)",
   "language": "python",
   "name": "python3"
  },
  "language_info": {
   "codemirror_mode": {
    "name": "ipython",
    "version": 3
   },
   "file_extension": ".py",
   "mimetype": "text/x-python",
   "name": "python",
   "nbconvert_exporter": "python",
   "pygments_lexer": "ipython3",
   "version": "3.8.10"
  }
 },
 "nbformat": 4,
 "nbformat_minor": 5
}
