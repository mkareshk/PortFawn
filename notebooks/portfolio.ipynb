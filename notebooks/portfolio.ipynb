{
 "cells": [
  {
   "cell_type": "code",
   "execution_count": null,
   "id": "0f9e39b1-2c78-4771-8558-a672e59baa3a",
   "metadata": {},
   "outputs": [],
   "source": [
    "from portfawn.portfolio.portfolio import MeanVariancePortfolio\n",
    "from portfawn.plot.portfolio import PlotPortfolio\n",
    "\n",
    "%matplotlib inline"
   ]
  },
  {
   "cell_type": "code",
   "execution_count": null,
   "id": "e442cc84-763c-4825-8098-defebdddcabf",
   "metadata": {},
   "outputs": [],
   "source": [
    "## Parameters\n",
    "\n",
    "# tickers\n",
    "asset_list = ['SPY', 'IEMG', 'REET', 'BND', 'GLD']\n",
    "\n",
    "# date\n",
    "date_start = \"2015-01-01\"\n",
    "date_end = \"2020-12-31\"\n",
    "\n",
    "# portfolio\n",
    "objective = \"EWP\"\n",
    "risk_free_rate = 0.00\n",
    "sampling_params = {\"type\": \"standard\"}\n",
    "target_return=0.2\n",
    "target_sd=0.05\n",
    "weight_bound = (0.2, 0.98)"
   ]
  },
  {
   "cell_type": "code",
   "execution_count": null,
   "id": "a11ac7f3-ad98-4ffd-9f3d-c7999d4b3850",
   "metadata": {},
   "outputs": [],
   "source": [
    "mean_var_portfolio = MeanVariancePortfolio(\n",
    "    name=\"test\",\n",
    "    objective=objective,\n",
    "    target_return=target_return,\n",
    "    target_sd=target_sd,\n",
    "    weight_bound=weight_bound,\n",
    ")"
   ]
  },
  {
   "cell_type": "code",
   "execution_count": null,
   "id": "4e9a0f18-5478-4d8a-aab3-a20b3d356dbe",
   "metadata": {},
   "outputs": [],
   "source": [
    "mean_var_portfolio.fit(asset_list=asset_list, date_start=date_start, date_end=date_end)"
   ]
  },
  {
   "cell_type": "code",
   "execution_count": null,
   "id": "b9b4af8d-3b4d-419b-9056-6f681067a519",
   "metadata": {},
   "outputs": [],
   "source": [
    "performance = mean_var_portfolio.evaluate(date_start=date_start, date_end=date_end)"
   ]
  },
  {
   "cell_type": "code",
   "execution_count": null,
   "id": "99a3c540-e85a-4ef2-9571-8836ab654d27",
   "metadata": {},
   "outputs": [],
   "source": [
    "plot_portfolio = PlotPortfolio(performance)"
   ]
  },
  {
   "cell_type": "markdown",
   "id": "0b7f16ab-c036-41d1-a52d-82d02149b728",
   "metadata": {},
   "source": [
    "## Asset Weights"
   ]
  },
  {
   "cell_type": "code",
   "execution_count": null,
   "id": "76f7e811-e615-4b4c-baa8-ea9d6b10ee31",
   "metadata": {},
   "outputs": [],
   "source": [
    "fig, ax = plot_portfolio.plot_pie()"
   ]
  },
  {
   "cell_type": "markdown",
   "id": "1714c3f6-a47f-4411-8480-3ad3e0ec303a",
   "metadata": {},
   "source": [
    "## Portfolio Returns"
   ]
  },
  {
   "cell_type": "code",
   "execution_count": null,
   "id": "89234051-1292-4010-887e-89e01c578e86",
   "metadata": {},
   "outputs": [],
   "source": [
    "performance['returns'].head(3)"
   ]
  },
  {
   "cell_type": "code",
   "execution_count": null,
   "id": "1f5feff4-b906-47b4-9f95-ff711ba4a94b",
   "metadata": {},
   "outputs": [],
   "source": [
    "fig, ax = plot_portfolio.plot_returns(resample='Q')"
   ]
  },
  {
   "cell_type": "markdown",
   "id": "e971208f-0147-44e5-af6e-f2142a016794",
   "metadata": {},
   "source": [
    "## Portfolio cumulative Returns"
   ]
  },
  {
   "cell_type": "code",
   "execution_count": null,
   "id": "25ad022e-a1e9-4080-a051-d66a899bbe2f",
   "metadata": {},
   "outputs": [],
   "source": [
    "performance['cum_returns'].head(3)"
   ]
  },
  {
   "cell_type": "code",
   "execution_count": null,
   "id": "b1841e87-2202-460b-850a-1847e3d115fb",
   "metadata": {},
   "outputs": [],
   "source": [
    "fig, ax = plot_portfolio.plot_cum_returns()"
   ]
  },
  {
   "cell_type": "markdown",
   "id": "bc0163d3-7fce-4594-ad8b-89c81d11c59a",
   "metadata": {},
   "source": [
    "## Distributions of Portfolio Returns"
   ]
  },
  {
   "cell_type": "code",
   "execution_count": null,
   "id": "7a2e901d-5c5e-4b99-9487-e00d9e8f2f4f",
   "metadata": {},
   "outputs": [],
   "source": [
    "performance['returns'].describe()"
   ]
  },
  {
   "cell_type": "code",
   "execution_count": null,
   "id": "3c99404e-36fe-4fbe-a0b4-67988e78653b",
   "metadata": {},
   "outputs": [],
   "source": [
    "fig, ax = plot_portfolio.plot_dist_returns()"
   ]
  },
  {
   "cell_type": "markdown",
   "id": "d5b9d82f-138a-49ca-ba0f-b0a453276f61",
   "metadata": {},
   "source": [
    "## Relationships of Returns"
   ]
  },
  {
   "cell_type": "code",
   "execution_count": null,
   "id": "9598b18e-450b-42fe-b7db-4de95ab6b51f",
   "metadata": {},
   "outputs": [],
   "source": [
    "# Cov Data\n",
    "performance['returns'].cov()"
   ]
  },
  {
   "cell_type": "code",
   "execution_count": null,
   "id": "aa7ed0c2-f42d-4829-af62-b891461ff435",
   "metadata": {},
   "outputs": [],
   "source": [
    "# Cov plot\n",
    "fig, ax = plot_portfolio.plot_cov()"
   ]
  },
  {
   "cell_type": "code",
   "execution_count": null,
   "id": "6f7f73da-1242-4b42-ab78-e876b73bebc3",
   "metadata": {},
   "outputs": [],
   "source": [
    "# Corr Data\n",
    "performance['returns'].corr()"
   ]
  },
  {
   "cell_type": "code",
   "execution_count": null,
   "id": "b81e806f-0f76-4b09-a23f-8dc1b3bfa0f8",
   "metadata": {},
   "outputs": [],
   "source": [
    "# Corr plot\n",
    "fig, ax = plot_portfolio.plot_corr()"
   ]
  },
  {
   "cell_type": "markdown",
   "id": "72a4f841-50ec-4e86-aa0e-f6bf31741a37",
   "metadata": {},
   "source": [
    "## Expected Returns vs. Volatility"
   ]
  },
  {
   "cell_type": "code",
   "execution_count": null,
   "id": "ff3b1bd0-ad0b-4ec7-89b7-62c3f6f2da08",
   "metadata": {},
   "outputs": [],
   "source": [
    "fig, ax = plot_portfolio.plot_mean_sd()"
   ]
  }
 ],
 "metadata": {
  "kernelspec": {
   "display_name": "Python 3 (ipykernel)",
   "language": "python",
   "name": "python3"
  },
  "language_info": {
   "codemirror_mode": {
    "name": "ipython",
    "version": 3
   },
   "file_extension": ".py",
   "mimetype": "text/x-python",
   "name": "python",
   "nbconvert_exporter": "python",
   "pygments_lexer": "ipython3",
   "version": "3.8.10"
  }
 },
 "nbformat": 4,
 "nbformat_minor": 5
}
