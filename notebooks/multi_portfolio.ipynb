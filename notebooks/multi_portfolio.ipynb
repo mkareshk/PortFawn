{
 "cells": [
  {
   "cell_type": "code",
   "execution_count": null,
   "id": "f23dca59-9a7d-4f1a-9559-d37706fd2577",
   "metadata": {},
   "outputs": [],
   "source": [
    "import pandas as pd\n",
    "\n",
    "from portfawn.portfolio.multi_portfolio import MultiPortfolio\n",
    "from portfawn.plot.multi_portfolio import PlotMultiPortfolio\n",
    "\n",
    "%matplotlib inline"
   ]
  },
  {
   "cell_type": "code",
   "execution_count": null,
   "id": "edee8ce7-a1ec-4ffa-9d3e-d344afb2ef09",
   "metadata": {},
   "outputs": [],
   "source": [
    "## Parameters\n",
    "\n",
    "# tickers\n",
    "asset_list = ['SPY', 'BND', 'GLD']\n",
    "\n",
    "# date\n",
    "date_start = \"2015-01-01\"\n",
    "date_end = \"2020-12-31\"\n",
    "\n",
    "# portfolio\n",
    "objectives_list = [\"EWP\", \"MSRP\", \"MRP\", \"MVP\"]\n",
    "risk_free_rate = 0.00\n",
    "sampling_params = {\"type\": \"standard\"}\n",
    "target_return=0.2\n",
    "target_sd=0.05\n",
    "weight_bound = (0.02, 0.98)"
   ]
  },
  {
   "cell_type": "code",
   "execution_count": null,
   "id": "0d5ece20-0de1-406f-9b6c-03998b379209",
   "metadata": {},
   "outputs": [],
   "source": [
    "multi_portfolio = MultiPortfolio(name=\"test\", objectives_list=objectives_list, \n",
    "                                   target_return=target_return,\n",
    "                                   target_sd=target_sd,\n",
    "                                   weight_bound=weight_bound)"
   ]
  },
  {
   "cell_type": "code",
   "execution_count": null,
   "id": "c3eebcaf-fac2-41a7-8eca-584506fa5d89",
   "metadata": {},
   "outputs": [],
   "source": [
    "performance = multi_portfolio.run(asset_list=asset_list, date_start=date_start, date_end=date_end)"
   ]
  },
  {
   "cell_type": "code",
   "execution_count": null,
   "id": "2ee8d922-07dd-477e-8c46-2aa3f0049cd8",
   "metadata": {},
   "outputs": [],
   "source": [
    "plot = PlotMultiPortfolio(performance)"
   ]
  },
  {
   "cell_type": "code",
   "execution_count": null,
   "id": "c9ffb57c-fc3f-462a-82ae-7b973b095b5f",
   "metadata": {},
   "outputs": [],
   "source": [
    "fig, ax = plot.plot_mean_sd()"
   ]
  }
 ],
 "metadata": {
  "kernelspec": {
   "display_name": "Python 3 (ipykernel)",
   "language": "python",
   "name": "python3"
  },
  "language_info": {
   "codemirror_mode": {
    "name": "ipython",
    "version": 3
   },
   "file_extension": ".py",
   "mimetype": "text/x-python",
   "name": "python",
   "nbconvert_exporter": "python",
   "pygments_lexer": "ipython3",
   "version": "3.8.10"
  }
 },
 "nbformat": 4,
 "nbformat_minor": 5
}
