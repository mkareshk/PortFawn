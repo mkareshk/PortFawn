{
 "cells": [
  {
   "cell_type": "code",
   "execution_count": null,
   "id": "f23dca59-9a7d-4f1a-9559-d37706fd2577",
   "metadata": {},
   "outputs": [],
   "source": [
    "import pandas as pd\n",
    "\n",
    "from portfawn.market_data import MarketData\n",
    "from portfawn.portfolio import MultiPortoflio\n",
    "\n",
    "%matplotlib inline"
   ]
  },
  {
   "cell_type": "code",
   "execution_count": null,
   "id": "0fc06e5a-7643-421e-b195-5d0bf654ec21",
   "metadata": {},
   "outputs": [],
   "source": [
    "## Parameters\n",
    "# market data\n",
    "\n",
    "tickers = {\"S&P 500\": \"IVV\", \n",
    "           \"Small-Cap\": \"IJR\",\n",
    "           'ACWI ex U.S.': 'ACWX',\n",
    "           \"Emerging Markets\": \"IEMG\", \n",
    "           \"Global REIT\": \"REET\", \n",
    "           'U.S. Real Estate': 'IYR',\n",
    "           'Aggregate Bond': 'AGG',\n",
    "           'Gold': 'GLD',\n",
    "           'Corporate Bond ': 'HYG'\n",
    "          }\n",
    "\n",
    "# date\n",
    "start_date = \"2015-01-01\"\n",
    "end_date   = \"2020-12-31\"\n",
    "\n",
    "# portfolio\n",
    "portfolio_fitness_list = [\"Equal\", \"MSR\", \"MR\", \"MV\", \"SA\"]\n",
    "\n",
    "risk_free_rate = 0.00\n",
    "sampling_params = {\"type\": \"standard\"}\n",
    "optimization_params = {\n",
    "    \"scipy_params\": {\n",
    "        \"maxiter\": 1000,\n",
    "        \"disp\": False,\n",
    "        \"ftol\": 1e-10,\n",
    "    },\n",
    "    \"target_return\": 0.3,\n",
    "    \"target_risk\": 0.15,\n",
    "    \"weight_bound\": (0.02, 0.98),\n",
    "}"
   ]
  },
  {
   "cell_type": "code",
   "execution_count": null,
   "id": "d13a7ac8-08fd-4cd6-b5cd-0403e96c6ab2",
   "metadata": {},
   "outputs": [],
   "source": [
    "## Create the market instance\n",
    "market_data = MarketData(\n",
    "    tickers = tickers,\n",
    "    date_start = start_date,\n",
    "    date_end = end_date,\n",
    "    col_price = \"Close\",\n",
    ")\n",
    "data_returns = market_data.data_returns"
   ]
  },
  {
   "cell_type": "code",
   "execution_count": null,
   "id": "0d5ece20-0de1-406f-9b6c-03998b379209",
   "metadata": {},
   "outputs": [],
   "source": [
    "multi_portfolio = MultiPortoflio(portfolio_fitness_list=portfolio_fitness_list,\n",
    "                                 data_returns=data_returns,\n",
    "                                 risk_free_rate=risk_free_rate,\n",
    "                                 sampling_params=sampling_params,\n",
    "                                 optimization_params=optimization_params,\n",
    "                                )"
   ]
  },
  {
   "cell_type": "code",
   "execution_count": null,
   "id": "c3eebcaf-fac2-41a7-8eca-584506fa5d89",
   "metadata": {},
   "outputs": [],
   "source": [
    "multi_portfolio.generate()"
   ]
  },
  {
   "cell_type": "code",
   "execution_count": null,
   "id": "c9ffb57c-fc3f-462a-82ae-7b973b095b5f",
   "metadata": {},
   "outputs": [],
   "source": [
    "fig, ax = multi_portfolio.plot_portfolio()"
   ]
  }
 ],
 "metadata": {
  "kernelspec": {
   "display_name": "Python 3 (ipykernel)",
   "language": "python",
   "name": "python3"
  },
  "language_info": {
   "codemirror_mode": {
    "name": "ipython",
    "version": 3
   },
   "file_extension": ".py",
   "mimetype": "text/x-python",
   "name": "python",
   "nbconvert_exporter": "python",
   "pygments_lexer": "ipython3",
   "version": "3.8.10"
  }
 },
 "nbformat": 4,
 "nbformat_minor": 5
}
